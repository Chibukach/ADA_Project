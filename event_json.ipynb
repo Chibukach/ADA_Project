{
 "cells": [
  {
   "cell_type": "markdown",
   "metadata": {},
   "source": [
    "# Notebook to create the json file for event_detection visualization using the data provided [here](https://github.com/dsar/mobility_pattern_detection)"
   ]
  },
  {
   "cell_type": "code",
   "execution_count": 1,
   "metadata": {
    "collapsed": true
   },
   "outputs": [],
   "source": [
    "import pandas as pd\n",
    "import csv\n",
    "import time\n",
    "import glob"
   ]
  },
  {
   "cell_type": "code",
   "execution_count": 2,
   "metadata": {
    "collapsed": false
   },
   "outputs": [],
   "source": [
    "data_path = \"data/\""
   ]
  },
  {
   "cell_type": "code",
   "execution_count": 3,
   "metadata": {
    "collapsed": false
   },
   "outputs": [],
   "source": [
    "list_data = glob.glob(data_path+'*.csv')"
   ]
  },
  {
   "cell_type": "code",
   "execution_count": 4,
   "metadata": {
    "collapsed": true
   },
   "outputs": [],
   "source": [
    "detected_file = []\n",
    "for event_file in list_data:\n",
    "    detected_file.append(pd.read_csv(event_file, sep = \"|\", index_col=0))"
   ]
  },
  {
   "cell_type": "markdown",
   "metadata": {},
   "source": [
    "### concatenate in one dataframe the data from 2010 to 2016"
   ]
  },
  {
   "cell_type": "code",
   "execution_count": 5,
   "metadata": {
    "collapsed": false
   },
   "outputs": [],
   "source": [
    "detected_event_data = pd.concat(detected_file)"
   ]
  },
  {
   "cell_type": "code",
   "execution_count": 6,
   "metadata": {
    "collapsed": false
   },
   "outputs": [
    {
     "data": {
      "text/html": [
       "<div>\n",
       "<table border=\"1\" class=\"dataframe\">\n",
       "  <thead>\n",
       "    <tr style=\"text-align: right;\">\n",
       "      <th></th>\n",
       "      <th>hashtag</th>\n",
       "      <th>dayOfTweet</th>\n",
       "      <th>usersPerHashtag</th>\n",
       "      <th>spamEvent</th>\n",
       "      <th>std</th>\n",
       "      <th>approxLocation</th>\n",
       "    </tr>\n",
       "  </thead>\n",
       "  <tbody>\n",
       "    <tr>\n",
       "      <th>0</th>\n",
       "      <td>#tedxzh</td>\n",
       "      <td>2010-10-20</td>\n",
       "      <td>5</td>\n",
       "      <td>False</td>\n",
       "      <td>178.505886</td>\n",
       "      <td>('47.383', '8.536')</td>\n",
       "    </tr>\n",
       "    <tr>\n",
       "      <th>1</th>\n",
       "      <td>#gotthard</td>\n",
       "      <td>2010-10-15</td>\n",
       "      <td>4</td>\n",
       "      <td>False</td>\n",
       "      <td>159.250786</td>\n",
       "      <td>('47.567', '7.597')</td>\n",
       "    </tr>\n",
       "    <tr>\n",
       "      <th>2</th>\n",
       "      <td>#esc</td>\n",
       "      <td>2010-05-29</td>\n",
       "      <td>4</td>\n",
       "      <td>False</td>\n",
       "      <td>61.585952</td>\n",
       "      <td>('47.162', '8.291')</td>\n",
       "    </tr>\n",
       "    <tr>\n",
       "      <th>3</th>\n",
       "      <td>#fb</td>\n",
       "      <td>2010-10-07</td>\n",
       "      <td>3</td>\n",
       "      <td>False</td>\n",
       "      <td>257.948167</td>\n",
       "      <td>('46.289', '7.972')</td>\n",
       "    </tr>\n",
       "    <tr>\n",
       "      <th>4</th>\n",
       "      <td>#tedxgeneva</td>\n",
       "      <td>2010-12-06</td>\n",
       "      <td>2</td>\n",
       "      <td>False</td>\n",
       "      <td>153.596919</td>\n",
       "      <td>('46.194', '6.154')</td>\n",
       "    </tr>\n",
       "  </tbody>\n",
       "</table>\n",
       "</div>"
      ],
      "text/plain": [
       "       hashtag  dayOfTweet  usersPerHashtag spamEvent         std  \\\n",
       "0      #tedxzh  2010-10-20                5     False  178.505886   \n",
       "1    #gotthard  2010-10-15                4     False  159.250786   \n",
       "2         #esc  2010-05-29                4     False   61.585952   \n",
       "3          #fb  2010-10-07                3     False  257.948167   \n",
       "4  #tedxgeneva  2010-12-06                2     False  153.596919   \n",
       "\n",
       "        approxLocation  \n",
       "0  ('47.383', '8.536')  \n",
       "1  ('47.567', '7.597')  \n",
       "2  ('47.162', '8.291')  \n",
       "3  ('46.289', '7.972')  \n",
       "4  ('46.194', '6.154')  "
      ]
     },
     "execution_count": 6,
     "metadata": {},
     "output_type": "execute_result"
    }
   ],
   "source": [
    "detected_event_data.reset_index(inplace=True, drop=True)\n",
    "detected_event_data.head()"
   ]
  },
  {
   "cell_type": "markdown",
   "metadata": {
    "collapsed": true
   },
   "source": [
    "##  PREPROCESSING "
   ]
  },
  {
   "cell_type": "markdown",
   "metadata": {},
   "source": [
    "### Keep only the events which have at least 10 persons who tweets about the event"
   ]
  },
  {
   "cell_type": "code",
   "execution_count": 7,
   "metadata": {
    "collapsed": false
   },
   "outputs": [
    {
     "data": {
      "text/plain": [
       "(3698, 6)"
      ]
     },
     "execution_count": 7,
     "metadata": {},
     "output_type": "execute_result"
    }
   ],
   "source": [
    "detected_event_data[detected_event_data.usersPerHashtag > 10].shape"
   ]
  },
  {
   "cell_type": "code",
   "execution_count": 8,
   "metadata": {
    "collapsed": true
   },
   "outputs": [],
   "source": [
    "detected_event_data = detected_event_data[detected_event_data.usersPerHashtag > 10]"
   ]
  },
  {
   "cell_type": "markdown",
   "metadata": {},
   "source": [
    "####  rename the std column to avoid any trouble with series.std"
   ]
  },
  {
   "cell_type": "code",
   "execution_count": 9,
   "metadata": {
    "collapsed": false
   },
   "outputs": [],
   "source": [
    "detected_event_data.rename(columns={'std':'std_metrics'}, inplace=True)"
   ]
  },
  {
   "cell_type": "markdown",
   "metadata": {},
   "source": [
    "#### change the date format and add in the same time the number of tweets per day"
   ]
  },
  {
   "cell_type": "code",
   "execution_count": 10,
   "metadata": {
    "collapsed": true
   },
   "outputs": [],
   "source": [
    "from datetime import datetime"
   ]
  },
  {
   "cell_type": "code",
   "execution_count": 11,
   "metadata": {
    "collapsed": true
   },
   "outputs": [],
   "source": [
    "date_format = \"%Y-%m-%d\""
   ]
  },
  {
   "cell_type": "code",
   "execution_count": 12,
   "metadata": {
    "collapsed": false
   },
   "outputs": [],
   "source": [
    "detected_event_data['dayOfTweet'] = pd.to_datetime(detected_event_data['dayOfTweet'],format = date_format,errors='coerce')"
   ]
  },
  {
   "cell_type": "code",
   "execution_count": 13,
   "metadata": {
    "collapsed": false
   },
   "outputs": [
    {
     "data": {
      "text/html": [
       "<div>\n",
       "<table border=\"1\" class=\"dataframe\">\n",
       "  <thead>\n",
       "    <tr style=\"text-align: right;\">\n",
       "      <th></th>\n",
       "      <th>hashtag</th>\n",
       "      <th>dayOfTweet</th>\n",
       "      <th>usersPerHashtag</th>\n",
       "      <th>spamEvent</th>\n",
       "      <th>std_metrics</th>\n",
       "      <th>approxLocation</th>\n",
       "    </tr>\n",
       "  </thead>\n",
       "  <tbody>\n",
       "    <tr>\n",
       "      <th>12</th>\n",
       "      <td>#brexit</td>\n",
       "      <td>2016-06-24</td>\n",
       "      <td>186</td>\n",
       "      <td>False</td>\n",
       "      <td>261.680985</td>\n",
       "      <td>('47.719', '8.623')</td>\n",
       "    </tr>\n",
       "    <tr>\n",
       "      <th>13</th>\n",
       "      <td>#euro2016</td>\n",
       "      <td>2016-06-27</td>\n",
       "      <td>96</td>\n",
       "      <td>False</td>\n",
       "      <td>165.867610</td>\n",
       "      <td>('46.954', '7.395')</td>\n",
       "    </tr>\n",
       "    <tr>\n",
       "      <th>14</th>\n",
       "      <td>#suifra</td>\n",
       "      <td>2016-06-19</td>\n",
       "      <td>95</td>\n",
       "      <td>False</td>\n",
       "      <td>108.932860</td>\n",
       "      <td>('46.529', '6.652')</td>\n",
       "    </tr>\n",
       "    <tr>\n",
       "      <th>15</th>\n",
       "      <td>#frapor</td>\n",
       "      <td>2016-07-10</td>\n",
       "      <td>87</td>\n",
       "      <td>False</td>\n",
       "      <td>174.980705</td>\n",
       "      <td>('46.205', '6.143')</td>\n",
       "    </tr>\n",
       "    <tr>\n",
       "      <th>16</th>\n",
       "      <td>#sui</td>\n",
       "      <td>2016-06-19</td>\n",
       "      <td>87</td>\n",
       "      <td>False</td>\n",
       "      <td>172.971667</td>\n",
       "      <td>('46.894', '7.055')</td>\n",
       "    </tr>\n",
       "  </tbody>\n",
       "</table>\n",
       "</div>"
      ],
      "text/plain": [
       "      hashtag dayOfTweet  usersPerHashtag spamEvent  std_metrics  \\\n",
       "12    #brexit 2016-06-24              186     False   261.680985   \n",
       "13  #euro2016 2016-06-27               96     False   165.867610   \n",
       "14    #suifra 2016-06-19               95     False   108.932860   \n",
       "15    #frapor 2016-07-10               87     False   174.980705   \n",
       "16       #sui 2016-06-19               87     False   172.971667   \n",
       "\n",
       "         approxLocation  \n",
       "12  ('47.719', '8.623')  \n",
       "13  ('46.954', '7.395')  \n",
       "14  ('46.529', '6.652')  \n",
       "15  ('46.205', '6.143')  \n",
       "16  ('46.894', '7.055')  "
      ]
     },
     "execution_count": 13,
     "metadata": {},
     "output_type": "execute_result"
    }
   ],
   "source": [
    "detected_event_data.head()"
   ]
  },
  {
   "cell_type": "code",
   "execution_count": 14,
   "metadata": {
    "collapsed": true
   },
   "outputs": [],
   "source": [
    "new_date_format = '%Y-%m-%dT%H:%M:%SZ'"
   ]
  },
  {
   "cell_type": "code",
   "execution_count": 15,
   "metadata": {
    "collapsed": true
   },
   "outputs": [],
   "source": [
    "def change_date_format(ds):\n",
    "    return ds.strftime('%Y-%m-%dT%H:%M:%SZ')\n",
    "    "
   ]
  },
  {
   "cell_type": "code",
   "execution_count": 16,
   "metadata": {
    "collapsed": false
   },
   "outputs": [],
   "source": [
    "detected_event_data['dayOfTweet'] = detected_event_data['dayOfTweet'].apply(change_date_format)"
   ]
  },
  {
   "cell_type": "code",
   "execution_count": 17,
   "metadata": {
    "collapsed": false
   },
   "outputs": [
    {
     "data": {
      "text/html": [
       "<div>\n",
       "<table border=\"1\" class=\"dataframe\">\n",
       "  <thead>\n",
       "    <tr style=\"text-align: right;\">\n",
       "      <th></th>\n",
       "      <th>hashtag</th>\n",
       "      <th>dayOfTweet</th>\n",
       "      <th>usersPerHashtag</th>\n",
       "      <th>spamEvent</th>\n",
       "      <th>std_metrics</th>\n",
       "      <th>approxLocation</th>\n",
       "    </tr>\n",
       "  </thead>\n",
       "  <tbody>\n",
       "    <tr>\n",
       "      <th>12</th>\n",
       "      <td>#brexit</td>\n",
       "      <td>2016-06-24T00:00:00Z</td>\n",
       "      <td>186</td>\n",
       "      <td>False</td>\n",
       "      <td>261.680985</td>\n",
       "      <td>('47.719', '8.623')</td>\n",
       "    </tr>\n",
       "    <tr>\n",
       "      <th>13</th>\n",
       "      <td>#euro2016</td>\n",
       "      <td>2016-06-27T00:00:00Z</td>\n",
       "      <td>96</td>\n",
       "      <td>False</td>\n",
       "      <td>165.867610</td>\n",
       "      <td>('46.954', '7.395')</td>\n",
       "    </tr>\n",
       "    <tr>\n",
       "      <th>14</th>\n",
       "      <td>#suifra</td>\n",
       "      <td>2016-06-19T00:00:00Z</td>\n",
       "      <td>95</td>\n",
       "      <td>False</td>\n",
       "      <td>108.932860</td>\n",
       "      <td>('46.529', '6.652')</td>\n",
       "    </tr>\n",
       "    <tr>\n",
       "      <th>15</th>\n",
       "      <td>#frapor</td>\n",
       "      <td>2016-07-10T00:00:00Z</td>\n",
       "      <td>87</td>\n",
       "      <td>False</td>\n",
       "      <td>174.980705</td>\n",
       "      <td>('46.205', '6.143')</td>\n",
       "    </tr>\n",
       "    <tr>\n",
       "      <th>16</th>\n",
       "      <td>#sui</td>\n",
       "      <td>2016-06-19T00:00:00Z</td>\n",
       "      <td>87</td>\n",
       "      <td>False</td>\n",
       "      <td>172.971667</td>\n",
       "      <td>('46.894', '7.055')</td>\n",
       "    </tr>\n",
       "  </tbody>\n",
       "</table>\n",
       "</div>"
      ],
      "text/plain": [
       "      hashtag            dayOfTweet  usersPerHashtag spamEvent  std_metrics  \\\n",
       "12    #brexit  2016-06-24T00:00:00Z              186     False   261.680985   \n",
       "13  #euro2016  2016-06-27T00:00:00Z               96     False   165.867610   \n",
       "14    #suifra  2016-06-19T00:00:00Z               95     False   108.932860   \n",
       "15    #frapor  2016-07-10T00:00:00Z               87     False   174.980705   \n",
       "16       #sui  2016-06-19T00:00:00Z               87     False   172.971667   \n",
       "\n",
       "         approxLocation  \n",
       "12  ('47.719', '8.623')  \n",
       "13  ('46.954', '7.395')  \n",
       "14  ('46.529', '6.652')  \n",
       "15  ('46.205', '6.143')  \n",
       "16  ('46.894', '7.055')  "
      ]
     },
     "execution_count": 17,
     "metadata": {},
     "output_type": "execute_result"
    }
   ],
   "source": [
    "detected_event_data.head()"
   ]
  },
  {
   "cell_type": "code",
   "execution_count": 18,
   "metadata": {
    "collapsed": false
   },
   "outputs": [
    {
     "data": {
      "text/html": [
       "<div>\n",
       "<table border=\"1\" class=\"dataframe\">\n",
       "  <thead>\n",
       "    <tr style=\"text-align: right;\">\n",
       "      <th></th>\n",
       "      <th>hashtag</th>\n",
       "      <th>dayOfTweet</th>\n",
       "      <th>usersPerHashtag</th>\n",
       "      <th>spamEvent</th>\n",
       "      <th>std_metrics</th>\n",
       "      <th>approxLocation</th>\n",
       "    </tr>\n",
       "  </thead>\n",
       "  <tbody>\n",
       "    <tr>\n",
       "      <th>12</th>\n",
       "      <td>#brexit</td>\n",
       "      <td>2016-06-24T00:00:00Z</td>\n",
       "      <td>186</td>\n",
       "      <td>False</td>\n",
       "      <td>261.680985</td>\n",
       "      <td>('47.719', '8.623')</td>\n",
       "    </tr>\n",
       "    <tr>\n",
       "      <th>8465</th>\n",
       "      <td>#prayforparis</td>\n",
       "      <td>2015-11-14T00:00:00Z</td>\n",
       "      <td>131</td>\n",
       "      <td>False</td>\n",
       "      <td>343.310548</td>\n",
       "      <td>('46.205', '6.143')</td>\n",
       "    </tr>\n",
       "    <tr>\n",
       "      <th>15295</th>\n",
       "      <td>#nma</td>\n",
       "      <td>2013-12-14T00:00:00Z</td>\n",
       "      <td>127</td>\n",
       "      <td>False</td>\n",
       "      <td>84.671164</td>\n",
       "      <td>('47.262', '6.032')</td>\n",
       "    </tr>\n",
       "    <tr>\n",
       "      <th>8466</th>\n",
       "      <td>#jesuischarlie</td>\n",
       "      <td>2015-01-07T00:00:00Z</td>\n",
       "      <td>119</td>\n",
       "      <td>False</td>\n",
       "      <td>170.470379</td>\n",
       "      <td>('47.485', '6.914')</td>\n",
       "    </tr>\n",
       "    <tr>\n",
       "      <th>8467</th>\n",
       "      <td>#charliehebdo</td>\n",
       "      <td>2015-01-07T00:00:00Z</td>\n",
       "      <td>113</td>\n",
       "      <td>False</td>\n",
       "      <td>210.028082</td>\n",
       "      <td>('46.205', '6.143')</td>\n",
       "    </tr>\n",
       "  </tbody>\n",
       "</table>\n",
       "</div>"
      ],
      "text/plain": [
       "              hashtag            dayOfTweet  usersPerHashtag spamEvent  \\\n",
       "12            #brexit  2016-06-24T00:00:00Z              186     False   \n",
       "8465    #prayforparis  2015-11-14T00:00:00Z              131     False   \n",
       "15295            #nma  2013-12-14T00:00:00Z              127     False   \n",
       "8466   #jesuischarlie  2015-01-07T00:00:00Z              119     False   \n",
       "8467    #charliehebdo  2015-01-07T00:00:00Z              113     False   \n",
       "\n",
       "       std_metrics       approxLocation  \n",
       "12      261.680985  ('47.719', '8.623')  \n",
       "8465    343.310548  ('46.205', '6.143')  \n",
       "15295    84.671164  ('47.262', '6.032')  \n",
       "8466    170.470379  ('47.485', '6.914')  \n",
       "8467    210.028082  ('46.205', '6.143')  "
      ]
     },
     "execution_count": 18,
     "metadata": {},
     "output_type": "execute_result"
    }
   ],
   "source": [
    "detected_event_data.sort_values('usersPerHashtag',ascending=False,).head()"
   ]
  },
  {
   "cell_type": "code",
   "execution_count": 19,
   "metadata": {
    "collapsed": true
   },
   "outputs": [],
   "source": [
    "import re"
   ]
  },
  {
   "cell_type": "code",
   "execution_count": 20,
   "metadata": {
    "collapsed": false
   },
   "outputs": [],
   "source": [
    "def getLatitude(df):\n",
    "    coord_list = re.findall(r\"[-+]?\\d*\\.\\d+|\\d+\", df.approxLocation)\n",
    "    return float(coord_list[0])"
   ]
  },
  {
   "cell_type": "code",
   "execution_count": 21,
   "metadata": {
    "collapsed": true
   },
   "outputs": [],
   "source": [
    "def getLongitude(df):\n",
    "    coord_list = re.findall(r\"[-+]?\\d*\\.\\d+|\\d+\", df.approxLocation)\n",
    "    return float(coord_list[1])"
   ]
  },
  {
   "cell_type": "code",
   "execution_count": 22,
   "metadata": {
    "collapsed": false
   },
   "outputs": [],
   "source": [
    "detected_event_data['eventLatitude'] = detected_event_data.apply(getLatitude,axis=1)"
   ]
  },
  {
   "cell_type": "code",
   "execution_count": 23,
   "metadata": {
    "collapsed": false
   },
   "outputs": [],
   "source": [
    "detected_event_data['eventLongitude'] = detected_event_data.apply(getLongitude,axis=1)"
   ]
  },
  {
   "cell_type": "code",
   "execution_count": 24,
   "metadata": {
    "collapsed": false
   },
   "outputs": [],
   "source": [
    "detected_event_data.drop('approxLocation',axis=1,inplace=True)"
   ]
  },
  {
   "cell_type": "code",
   "execution_count": 25,
   "metadata": {
    "collapsed": false
   },
   "outputs": [
    {
     "data": {
      "text/html": [
       "<div>\n",
       "<table border=\"1\" class=\"dataframe\">\n",
       "  <thead>\n",
       "    <tr style=\"text-align: right;\">\n",
       "      <th></th>\n",
       "      <th>hashtag</th>\n",
       "      <th>dayOfTweet</th>\n",
       "      <th>usersPerHashtag</th>\n",
       "      <th>spamEvent</th>\n",
       "      <th>std_metrics</th>\n",
       "      <th>eventLatitude</th>\n",
       "      <th>eventLongitude</th>\n",
       "    </tr>\n",
       "  </thead>\n",
       "  <tbody>\n",
       "    <tr>\n",
       "      <th>12</th>\n",
       "      <td>#brexit</td>\n",
       "      <td>2016-06-24T00:00:00Z</td>\n",
       "      <td>186</td>\n",
       "      <td>False</td>\n",
       "      <td>261.680985</td>\n",
       "      <td>47.719</td>\n",
       "      <td>8.623</td>\n",
       "    </tr>\n",
       "    <tr>\n",
       "      <th>13</th>\n",
       "      <td>#euro2016</td>\n",
       "      <td>2016-06-27T00:00:00Z</td>\n",
       "      <td>96</td>\n",
       "      <td>False</td>\n",
       "      <td>165.867610</td>\n",
       "      <td>46.954</td>\n",
       "      <td>7.395</td>\n",
       "    </tr>\n",
       "    <tr>\n",
       "      <th>14</th>\n",
       "      <td>#suifra</td>\n",
       "      <td>2016-06-19T00:00:00Z</td>\n",
       "      <td>95</td>\n",
       "      <td>False</td>\n",
       "      <td>108.932860</td>\n",
       "      <td>46.529</td>\n",
       "      <td>6.652</td>\n",
       "    </tr>\n",
       "    <tr>\n",
       "      <th>15</th>\n",
       "      <td>#frapor</td>\n",
       "      <td>2016-07-10T00:00:00Z</td>\n",
       "      <td>87</td>\n",
       "      <td>False</td>\n",
       "      <td>174.980705</td>\n",
       "      <td>46.205</td>\n",
       "      <td>6.143</td>\n",
       "    </tr>\n",
       "    <tr>\n",
       "      <th>16</th>\n",
       "      <td>#sui</td>\n",
       "      <td>2016-06-19T00:00:00Z</td>\n",
       "      <td>87</td>\n",
       "      <td>False</td>\n",
       "      <td>172.971667</td>\n",
       "      <td>46.894</td>\n",
       "      <td>7.055</td>\n",
       "    </tr>\n",
       "  </tbody>\n",
       "</table>\n",
       "</div>"
      ],
      "text/plain": [
       "      hashtag            dayOfTweet  usersPerHashtag spamEvent  std_metrics  \\\n",
       "12    #brexit  2016-06-24T00:00:00Z              186     False   261.680985   \n",
       "13  #euro2016  2016-06-27T00:00:00Z               96     False   165.867610   \n",
       "14    #suifra  2016-06-19T00:00:00Z               95     False   108.932860   \n",
       "15    #frapor  2016-07-10T00:00:00Z               87     False   174.980705   \n",
       "16       #sui  2016-06-19T00:00:00Z               87     False   172.971667   \n",
       "\n",
       "    eventLatitude  eventLongitude  \n",
       "12         47.719           8.623  \n",
       "13         46.954           7.395  \n",
       "14         46.529           6.652  \n",
       "15         46.205           6.143  \n",
       "16         46.894           7.055  "
      ]
     },
     "execution_count": 25,
     "metadata": {},
     "output_type": "execute_result"
    }
   ],
   "source": [
    "detected_event_data.head()"
   ]
  },
  {
   "cell_type": "markdown",
   "metadata": {},
   "source": [
    "on the json we'll keep hashtag, dayOfTweet, usersPerHashtag, std_metrics,eventlatitude and eventlongitude, we also add the std min and max for each point to facilitate the displaying part in javascript"
   ]
  },
  {
   "cell_type": "markdown",
   "metadata": {},
   "source": [
    "## finally we'll get a json file like that "
   ]
  },
  {
   "cell_type": "code",
   "execution_count": 26,
   "metadata": {
    "collapsed": false
   },
   "outputs": [
    {
     "data": {
      "text/plain": [
       "{'geometry': {'coordinates': [47.383, 8.536], 'type': 'Point'},\n",
       " 'geometry_name': 'tweet_information',\n",
       " 'properties': {'dayOfTweet': '2010-10-20T00:00:00Z',\n",
       "  'eventLatitude': 47.383,\n",
       "  'eventLongitude': 8.536,\n",
       "  'hashtag': '#tedxzh',\n",
       "  'std_max': 202.0,\n",
       "  'std_metrics': 195.753539,\n",
       "  'std_min': 63.0,\n",
       "  'usersPerHashtag': 8},\n",
       " 'type': 'Feature'}"
      ]
     },
     "execution_count": 26,
     "metadata": {},
     "output_type": "execute_result"
    }
   ],
   "source": [
    "{\"type\":\"Feature\",\"geometry\":{\"type\":\"Point\",\"coordinates\":[47.383,8.536]},\"geometry_name\":\"tweet_information\",\"properties\":{\"hashtag\":\"#tedxzh\",\"dayOfTweet\":\"2010-10-20T00:00:00Z\",\"eventLongitude\":8.536,\"eventLatitude\":47.383,\"std_metrics\":195.753539, \"usersPerHashtag\":8, \"std_min\":63.0, \"std_max\":202.0}}"
   ]
  },
  {
   "cell_type": "code",
   "execution_count": 27,
   "metadata": {
    "collapsed": true
   },
   "outputs": [],
   "source": [
    "import json"
   ]
  },
  {
   "cell_type": "code",
   "execution_count": 28,
   "metadata": {
    "collapsed": true
   },
   "outputs": [],
   "source": [
    "# gjson is the main dictionary\n",
    "gjson_dict={}\n",
    "gjson_dict[\"type\"]= \"FeatureCollection\"\n",
    "feat_list = []\n"
   ]
  },
  {
   "cell_type": "code",
   "execution_count": 29,
   "metadata": {
    "collapsed": false
   },
   "outputs": [
    {
     "data": {
      "text/plain": [
       "{'type': 'FeatureCollection'}"
      ]
     },
     "execution_count": 29,
     "metadata": {},
     "output_type": "execute_result"
    }
   ],
   "source": [
    "gjson_dict"
   ]
  },
  {
   "cell_type": "code",
   "execution_count": 30,
   "metadata": {
    "collapsed": false
   },
   "outputs": [],
   "source": [
    "from geojson import Point"
   ]
  },
  {
   "cell_type": "code",
   "execution_count": 31,
   "metadata": {
    "collapsed": false
   },
   "outputs": [],
   "source": [
    "\n",
    "# Loop through all the courses, building a list entry which is itself a dictionary\n",
    "# Each of these dictionaries has nested within it a type dictionary, which contains a point dictionary and a properties dictionary \n",
    "for index in detected_event_data.index:\n",
    "    type_dict = {}\n",
    "    pt_dict = {}\n",
    "    prop_dict = {}\n",
    "    type_dict[\"type\"]= \"Feature\"\n",
    "    pt_dict[\"type\"]=\"Point\"\n",
    "\n",
    "    # GEOJSON looks for long,lat so reverse order\n",
    "    type_dict[\"geometry\"]=Point((detected_event_data.loc[index].eventLongitude,\n",
    "                                 detected_event_data.loc[index].eventLatitude))\n",
    "    \n",
    "    prop_dict[\"dayOfTweet\"] = detected_event_data.loc[index].dayOfTweet\n",
    "    prop_dict[\"hashtag\"] = detected_event_data.loc[index].hashtag\n",
    "    prop_dict[\"std_metrics\"]= detected_event_data.loc[index].std_metrics\n",
    "    prop_dict[\"eventLongitude\"]= detected_event_data.loc[index].eventLongitude\n",
    "    prop_dict[\"eventLatitude\"]= detected_event_data.loc[index].eventLatitude\n",
    "    prop_dict[\"usersPerHashtag\"] = detected_event_data.loc[index].usersPerHashtag\n",
    "    prop_dict['min_std'] = round(detected_event_data.std_metrics.min())\n",
    "    prop_dict['max_std'] = round(detected_event_data.std_metrics.max())\n",
    "    type_dict[\"properties\"]=prop_dict\n",
    "    feat_list.append(type_dict)\n",
    "    \n",
    "gjson_dict[\"features\"] = feat_list\n",
    "\n"
   ]
  },
  {
   "cell_type": "code",
   "execution_count": 32,
   "metadata": {
    "collapsed": false
   },
   "outputs": [],
   "source": [
    "\n",
    "# Serialize JSON for writing to file\n",
    "json_path = './data/event_detection.json'\n",
    "with open(json_path, 'w') as outfile:\n",
    "     json.dump(gjson_dict, outfile, sort_keys = True, indent = 4, ensure_ascii=False)\n"
   ]
  },
  {
   "cell_type": "code",
   "execution_count": null,
   "metadata": {
    "collapsed": true
   },
   "outputs": [],
   "source": []
  }
 ],
 "metadata": {
  "anaconda-cloud": {},
  "kernelspec": {
   "display_name": "Python [default]",
   "language": "python",
   "name": "python2"
  },
  "language_info": {
   "codemirror_mode": {
    "name": "ipython",
    "version": 2
   },
   "file_extension": ".py",
   "mimetype": "text/x-python",
   "name": "python",
   "nbconvert_exporter": "python",
   "pygments_lexer": "ipython2",
   "version": "2.7.12"
  }
 },
 "nbformat": 4,
 "nbformat_minor": 1
}
