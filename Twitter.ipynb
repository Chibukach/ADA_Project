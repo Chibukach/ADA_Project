{
 "cells": [
  {
   "cell_type": "code",
   "execution_count": 1,
   "metadata": {
    "collapsed": true
   },
   "outputs": [],
   "source": [
    "import pandas as pd\n",
    "import csv"
   ]
  },
  {
   "cell_type": "code",
   "execution_count": 2,
   "metadata": {
    "collapsed": false
   },
   "outputs": [],
   "source": [
    "data_path = \"Data/sample.tsv\"\n",
    "schema_path = \"Data/schema.txt\""
   ]
  },
  {
   "cell_type": "code",
   "execution_count": 3,
   "metadata": {
    "collapsed": true
   },
   "outputs": [],
   "source": [
    "\n",
    "sample =  pd.read_csv(data_path, sep=\"\\t\",encoding='utf-8',  quoting=csv.QUOTE_NONE)"
   ]
  },
  {
   "cell_type": "code",
   "execution_count": 5,
   "metadata": {
    "collapsed": true
   },
   "outputs": [],
   "source": [
    "with open(schema_path) as f:\n",
    "    columns = f.readlines()"
   ]
  },
  {
   "cell_type": "code",
   "execution_count": 6,
   "metadata": {
    "collapsed": false
   },
   "outputs": [
    {
     "data": {
      "text/plain": [
       "'1    id    bigint(20)        UNSIGNED    No    None\\n'"
      ]
     },
     "execution_count": 6,
     "metadata": {},
     "output_type": "execute_result"
    }
   ],
   "source": [
    "columns[0]"
   ]
  },
  {
   "cell_type": "code",
   "execution_count": 7,
   "metadata": {
    "collapsed": false
   },
   "outputs": [],
   "source": [
    "schema = pd.read_csv(schema_path, sep=\"\\s+\", header =None)"
   ]
  },
  {
   "cell_type": "code",
   "execution_count": 8,
   "metadata": {
    "collapsed": false
   },
   "outputs": [],
   "source": [
    "schema.drop(labels = 0, axis =1, inplace= True)"
   ]
  },
  {
   "cell_type": "code",
   "execution_count": 9,
   "metadata": {
    "collapsed": false,
    "scrolled": true
   },
   "outputs": [
    {
     "data": {
      "text/html": [
       "<div>\n",
       "<table border=\"1\" class=\"dataframe\">\n",
       "  <thead>\n",
       "    <tr style=\"text-align: right;\">\n",
       "      <th></th>\n",
       "      <th>1</th>\n",
       "      <th>2</th>\n",
       "      <th>3</th>\n",
       "      <th>4</th>\n",
       "      <th>5</th>\n",
       "    </tr>\n",
       "  </thead>\n",
       "  <tbody>\n",
       "    <tr>\n",
       "      <th>0</th>\n",
       "      <td>id</td>\n",
       "      <td>bigint(20)</td>\n",
       "      <td>UNSIGNED</td>\n",
       "      <td>No</td>\n",
       "      <td>None</td>\n",
       "    </tr>\n",
       "    <tr>\n",
       "      <th>1</th>\n",
       "      <td>userId</td>\n",
       "      <td>bigint(20)</td>\n",
       "      <td>UNSIGNED</td>\n",
       "      <td>No</td>\n",
       "      <td>None</td>\n",
       "    </tr>\n",
       "    <tr>\n",
       "      <th>2</th>\n",
       "      <td>createdAt</td>\n",
       "      <td>timestamp</td>\n",
       "      <td>No</td>\n",
       "      <td>0000-00-00</td>\n",
       "      <td>00:00:00</td>\n",
       "    </tr>\n",
       "    <tr>\n",
       "      <th>3</th>\n",
       "      <td>text</td>\n",
       "      <td>text</td>\n",
       "      <td>utf8_unicode_ci</td>\n",
       "      <td>No</td>\n",
       "      <td>None</td>\n",
       "    </tr>\n",
       "    <tr>\n",
       "      <th>4</th>\n",
       "      <td>longitude</td>\n",
       "      <td>float</td>\n",
       "      <td>Yes</td>\n",
       "      <td>NaN</td>\n",
       "      <td>NaN</td>\n",
       "    </tr>\n",
       "  </tbody>\n",
       "</table>\n",
       "</div>"
      ],
      "text/plain": [
       "           1           2                3           4         5\n",
       "0         id  bigint(20)         UNSIGNED          No      None\n",
       "1     userId  bigint(20)         UNSIGNED          No      None\n",
       "2  createdAt   timestamp               No  0000-00-00  00:00:00\n",
       "3       text        text  utf8_unicode_ci          No      None\n",
       "4  longitude       float              Yes         NaN       NaN"
      ]
     },
     "execution_count": 9,
     "metadata": {},
     "output_type": "execute_result"
    }
   ],
   "source": [
    "schema.head()"
   ]
  },
  {
   "cell_type": "code",
   "execution_count": 10,
   "metadata": {
    "collapsed": true
   },
   "outputs": [],
   "source": [
    "sample.columns = schema[1]"
   ]
  },
  {
   "cell_type": "code",
   "execution_count": 11,
   "metadata": {
    "collapsed": false,
    "scrolled": true
   },
   "outputs": [
    {
     "data": {
      "text/html": [
       "<div>\n",
       "<table border=\"1\" class=\"dataframe\">\n",
       "  <thead>\n",
       "    <tr style=\"text-align: right;\">\n",
       "      <th>1</th>\n",
       "      <th>id</th>\n",
       "      <th>userId</th>\n",
       "      <th>createdAt</th>\n",
       "      <th>text</th>\n",
       "      <th>longitude</th>\n",
       "      <th>latitude</th>\n",
       "      <th>placeId</th>\n",
       "      <th>inReplyTo</th>\n",
       "      <th>source</th>\n",
       "      <th>truncated</th>\n",
       "      <th>placeLatitude</th>\n",
       "      <th>placeLongitude</th>\n",
       "      <th>sourceName</th>\n",
       "      <th>sourceUrl</th>\n",
       "      <th>userName</th>\n",
       "      <th>screenName</th>\n",
       "      <th>followersCount</th>\n",
       "      <th>friendsCount</th>\n",
       "      <th>statusesCount</th>\n",
       "      <th>userLocation</th>\n",
       "    </tr>\n",
       "  </thead>\n",
       "  <tbody>\n",
       "    <tr>\n",
       "      <th>0</th>\n",
       "      <td>776523000636203010</td>\n",
       "      <td>2741685639</td>\n",
       "      <td>2016-09-15 20:48:05</td>\n",
       "      <td>https://t.co/noYrTnqmg9</td>\n",
       "      <td>\\N</td>\n",
       "      <td>\\N</td>\n",
       "      <td>4e7c21fd2af027c6</td>\n",
       "      <td>\\N</td>\n",
       "      <td>1.0</td>\n",
       "      <td>NaN</td>\n",
       "      <td>46.8131</td>\n",
       "      <td>8.22414</td>\n",
       "      <td>Twitter for iPhone</td>\n",
       "      <td>http://twitter.com/#!/download/iphone</td>\n",
       "      <td>samara</td>\n",
       "      <td>letisieg</td>\n",
       "      <td>755</td>\n",
       "      <td>2037.0</td>\n",
       "      <td>3771.0</td>\n",
       "      <td>Suisse</td>\n",
       "    </tr>\n",
       "    <tr>\n",
       "      <th>1</th>\n",
       "      <td>776523045200691200</td>\n",
       "      <td>435239151</td>\n",
       "      <td>2016-09-15 20:48:15</td>\n",
       "      <td>@BesacTof @Leonid_CCCP Tu dois t'engager en si...</td>\n",
       "      <td>\\N</td>\n",
       "      <td>\\N</td>\n",
       "      <td>12eb9b254faf37a3</td>\n",
       "      <td>776522113859608576</td>\n",
       "      <td>5.0</td>\n",
       "      <td>NaN</td>\n",
       "      <td>47.201</td>\n",
       "      <td>5.94082</td>\n",
       "      <td>Twitter for Android</td>\n",
       "      <td>http://twitter.com/download/android</td>\n",
       "      <td>lebrübrü❤</td>\n",
       "      <td>lebrubru</td>\n",
       "      <td>811</td>\n",
       "      <td>595.0</td>\n",
       "      <td>30191.0</td>\n",
       "      <td>Fontain</td>\n",
       "    </tr>\n",
       "    <tr>\n",
       "      <th>2</th>\n",
       "      <td>776523058404290560</td>\n",
       "      <td>503244217</td>\n",
       "      <td>2016-09-15 20:48:18</td>\n",
       "      <td>@Mno0or_Abyat اشوف مظاهرات على قانون العمل الج...</td>\n",
       "      <td>\\N</td>\n",
       "      <td>\\N</td>\n",
       "      <td>30bcd7f767b4041e</td>\n",
       "      <td>776521597515624448</td>\n",
       "      <td>1.0</td>\n",
       "      <td>NaN</td>\n",
       "      <td>45.8011</td>\n",
       "      <td>6.16552</td>\n",
       "      <td>Twitter for iPhone</td>\n",
       "      <td>http://twitter.com/#!/download/iphone</td>\n",
       "      <td>عبدالله القنيص</td>\n",
       "      <td>bingnais</td>\n",
       "      <td>28433</td>\n",
       "      <td>417.0</td>\n",
       "      <td>12262.0</td>\n",
       "      <td>Shargeyah</td>\n",
       "    </tr>\n",
       "    <tr>\n",
       "      <th>3</th>\n",
       "      <td>776523058504925185</td>\n",
       "      <td>452805259</td>\n",
       "      <td>2016-09-15 20:48:18</td>\n",
       "      <td>Greek night #geneve (@ Emilios in Genève) http...</td>\n",
       "      <td>6.14414</td>\n",
       "      <td>46.1966</td>\n",
       "      <td>c3a6437e1b1a726d</td>\n",
       "      <td>\\N</td>\n",
       "      <td>3.0</td>\n",
       "      <td>NaN</td>\n",
       "      <td>46.2048</td>\n",
       "      <td>6.14319</td>\n",
       "      <td>foursquare</td>\n",
       "      <td>http://foursquare.com</td>\n",
       "      <td>Alkan Şenli</td>\n",
       "      <td>Alkanoli</td>\n",
       "      <td>204</td>\n",
       "      <td>172.0</td>\n",
       "      <td>3390.0</td>\n",
       "      <td>İstanbul/Burgazada</td>\n",
       "    </tr>\n",
       "    <tr>\n",
       "      <th>4</th>\n",
       "      <td>776523071025012736</td>\n",
       "      <td>16416746</td>\n",
       "      <td>2016-09-15 20:48:21</td>\n",
       "      <td>@gregorypons #BusinessMontresVision https://t....</td>\n",
       "      <td>\\N</td>\n",
       "      <td>\\N</td>\n",
       "      <td>c3a6437e1b1a726d</td>\n",
       "      <td>776520907107995652</td>\n",
       "      <td>18777.0</td>\n",
       "      <td>NaN</td>\n",
       "      <td>46.2048</td>\n",
       "      <td>6.14319</td>\n",
       "      <td>Twitter Web Client</td>\n",
       "      <td>http://twitter.com</td>\n",
       "      <td>Gregory PONS</td>\n",
       "      <td>gregorypons</td>\n",
       "      <td>2398</td>\n",
       "      <td>305.0</td>\n",
       "      <td>14917.0</td>\n",
       "      <td>Geneva + watchmaking planet</td>\n",
       "    </tr>\n",
       "  </tbody>\n",
       "</table>\n",
       "</div>"
      ],
      "text/plain": [
       "1                  id      userId            createdAt  \\\n",
       "0  776523000636203010  2741685639  2016-09-15 20:48:05   \n",
       "1  776523045200691200   435239151  2016-09-15 20:48:15   \n",
       "2  776523058404290560   503244217  2016-09-15 20:48:18   \n",
       "3  776523058504925185   452805259  2016-09-15 20:48:18   \n",
       "4  776523071025012736    16416746  2016-09-15 20:48:21   \n",
       "\n",
       "1                                               text longitude latitude  \\\n",
       "0                            https://t.co/noYrTnqmg9        \\N       \\N   \n",
       "1  @BesacTof @Leonid_CCCP Tu dois t'engager en si...        \\N       \\N   \n",
       "2  @Mno0or_Abyat اشوف مظاهرات على قانون العمل الج...        \\N       \\N   \n",
       "3  Greek night #geneve (@ Emilios in Genève) http...   6.14414  46.1966   \n",
       "4  @gregorypons #BusinessMontresVision https://t....        \\N       \\N   \n",
       "\n",
       "1           placeId           inReplyTo   source truncated placeLatitude  \\\n",
       "0  4e7c21fd2af027c6                  \\N      1.0       NaN       46.8131   \n",
       "1  12eb9b254faf37a3  776522113859608576      5.0       NaN        47.201   \n",
       "2  30bcd7f767b4041e  776521597515624448      1.0       NaN       45.8011   \n",
       "3  c3a6437e1b1a726d                  \\N      3.0       NaN       46.2048   \n",
       "4  c3a6437e1b1a726d  776520907107995652  18777.0       NaN       46.2048   \n",
       "\n",
       "1 placeLongitude           sourceName                              sourceUrl  \\\n",
       "0        8.22414   Twitter for iPhone  http://twitter.com/#!/download/iphone   \n",
       "1        5.94082  Twitter for Android    http://twitter.com/download/android   \n",
       "2        6.16552   Twitter for iPhone  http://twitter.com/#!/download/iphone   \n",
       "3        6.14319           foursquare                  http://foursquare.com   \n",
       "4        6.14319   Twitter Web Client                     http://twitter.com   \n",
       "\n",
       "1        userName   screenName followersCount  friendsCount  statusesCount  \\\n",
       "0          samara     letisieg            755        2037.0         3771.0   \n",
       "1       lebrübrü❤     lebrubru            811         595.0        30191.0   \n",
       "2  عبدالله القنيص     bingnais          28433         417.0        12262.0   \n",
       "3     Alkan Şenli     Alkanoli            204         172.0         3390.0   \n",
       "4    Gregory PONS  gregorypons           2398         305.0        14917.0   \n",
       "\n",
       "1                 userLocation  \n",
       "0                       Suisse  \n",
       "1                      Fontain  \n",
       "2                    Shargeyah  \n",
       "3           İstanbul/Burgazada  \n",
       "4  Geneva + watchmaking planet  "
      ]
     },
     "execution_count": 11,
     "metadata": {},
     "output_type": "execute_result"
    }
   ],
   "source": [
    "sample.head()"
   ]
  },
  {
   "cell_type": "code",
   "execution_count": 12,
   "metadata": {
    "collapsed": false
   },
   "outputs": [
    {
     "data": {
      "text/plain": [
       "(9998, 20)"
      ]
     },
     "execution_count": 12,
     "metadata": {},
     "output_type": "execute_result"
    }
   ],
   "source": [
    "sample.shape"
   ]
  },
  {
   "cell_type": "code",
   "execution_count": null,
   "metadata": {
    "collapsed": true
   },
   "outputs": [],
   "source": []
  }
 ],
 "metadata": {
  "anaconda-cloud": {},
  "kernelspec": {
   "display_name": "Python [default]",
   "language": "python",
   "name": "python2"
  },
  "language_info": {
   "codemirror_mode": {
    "name": "ipython",
    "version": 2
   },
   "file_extension": ".py",
   "mimetype": "text/x-python",
   "name": "python",
   "nbconvert_exporter": "python",
   "pygments_lexer": "ipython2",
   "version": "2.7.12"
  }
 },
 "nbformat": 4,
 "nbformat_minor": 1
}
