{
 "cells": [
  {
   "cell_type": "code",
   "execution_count": 1,
   "metadata": {
    "collapsed": true
   },
   "outputs": [],
   "source": [
    "import pandas as pd\n",
    "import csv"
   ]
  },
  {
   "cell_type": "code",
   "execution_count": 2,
   "metadata": {
    "collapsed": true
   },
   "outputs": [],
   "source": [
    "data_path = \"./data/travel_info_2010.csv\""
   ]
  },
  {
   "cell_type": "code",
   "execution_count": 3,
   "metadata": {
    "collapsed": true
   },
   "outputs": [],
   "source": [
    "df_1 = pd.read_csv(data_path, sep=\"|\")"
   ]
  },
  {
   "cell_type": "code",
   "execution_count": 4,
   "metadata": {
    "collapsed": false
   },
   "outputs": [
    {
     "data": {
      "text/html": [
       "<div>\n",
       "<table border=\"1\" class=\"dataframe\">\n",
       "  <thead>\n",
       "    <tr style=\"text-align: right;\">\n",
       "      <th></th>\n",
       "      <th>userId</th>\n",
       "      <th>tweetsHome</th>\n",
       "      <th>homeLatitude</th>\n",
       "      <th>homeLongitude</th>\n",
       "      <th>tweetsWork</th>\n",
       "      <th>workLatitude</th>\n",
       "      <th>workLongitude</th>\n",
       "      <th>distance</th>\n",
       "      <th>time</th>\n",
       "      <th>homeCanton</th>\n",
       "      <th>workCanton</th>\n",
       "    </tr>\n",
       "  </thead>\n",
       "  <tbody>\n",
       "    <tr>\n",
       "      <th>0</th>\n",
       "      <td>41483</td>\n",
       "      <td>13.0</td>\n",
       "      <td>46.20</td>\n",
       "      <td>6.16</td>\n",
       "      <td>6.0</td>\n",
       "      <td>46.21</td>\n",
       "      <td>6.14</td>\n",
       "      <td>2.351</td>\n",
       "      <td>11.616667</td>\n",
       "      <td>GE</td>\n",
       "      <td>GE</td>\n",
       "    </tr>\n",
       "    <tr>\n",
       "      <th>1</th>\n",
       "      <td>99983</td>\n",
       "      <td>7.0</td>\n",
       "      <td>47.50</td>\n",
       "      <td>8.74</td>\n",
       "      <td>17.0</td>\n",
       "      <td>47.44</td>\n",
       "      <td>8.56</td>\n",
       "      <td>24.612</td>\n",
       "      <td>24.833333</td>\n",
       "      <td>ZH</td>\n",
       "      <td>ZH</td>\n",
       "    </tr>\n",
       "    <tr>\n",
       "      <th>2</th>\n",
       "      <td>626163</td>\n",
       "      <td>19.0</td>\n",
       "      <td>46.17</td>\n",
       "      <td>9.00</td>\n",
       "      <td>17.0</td>\n",
       "      <td>46.04</td>\n",
       "      <td>8.92</td>\n",
       "      <td>24.885</td>\n",
       "      <td>21.850000</td>\n",
       "      <td>TI</td>\n",
       "      <td>TI</td>\n",
       "    </tr>\n",
       "    <tr>\n",
       "      <th>3</th>\n",
       "      <td>634553</td>\n",
       "      <td>30.0</td>\n",
       "      <td>46.20</td>\n",
       "      <td>6.20</td>\n",
       "      <td>41.0</td>\n",
       "      <td>46.19</td>\n",
       "      <td>6.14</td>\n",
       "      <td>7.875</td>\n",
       "      <td>18.350000</td>\n",
       "      <td>GE</td>\n",
       "      <td>GE</td>\n",
       "    </tr>\n",
       "    <tr>\n",
       "      <th>4</th>\n",
       "      <td>640043</td>\n",
       "      <td>10.0</td>\n",
       "      <td>45.79</td>\n",
       "      <td>9.37</td>\n",
       "      <td>5.0</td>\n",
       "      <td>46.01</td>\n",
       "      <td>8.91</td>\n",
       "      <td>74.209</td>\n",
       "      <td>78.433333</td>\n",
       "      <td>Lombardia</td>\n",
       "      <td>TI</td>\n",
       "    </tr>\n",
       "  </tbody>\n",
       "</table>\n",
       "</div>"
      ],
      "text/plain": [
       "   userId  tweetsHome  homeLatitude  homeLongitude  tweetsWork  workLatitude  \\\n",
       "0   41483        13.0         46.20           6.16         6.0         46.21   \n",
       "1   99983         7.0         47.50           8.74        17.0         47.44   \n",
       "2  626163        19.0         46.17           9.00        17.0         46.04   \n",
       "3  634553        30.0         46.20           6.20        41.0         46.19   \n",
       "4  640043        10.0         45.79           9.37         5.0         46.01   \n",
       "\n",
       "   workLongitude  distance       time homeCanton workCanton  \n",
       "0           6.14     2.351  11.616667         GE         GE  \n",
       "1           8.56    24.612  24.833333         ZH         ZH  \n",
       "2           8.92    24.885  21.850000         TI         TI  \n",
       "3           6.14     7.875  18.350000         GE         GE  \n",
       "4           8.91    74.209  78.433333  Lombardia         TI  "
      ]
     },
     "execution_count": 4,
     "metadata": {},
     "output_type": "execute_result"
    }
   ],
   "source": [
    "df_1.head()"
   ]
  },
  {
   "cell_type": "code",
   "execution_count": 5,
   "metadata": {
    "collapsed": false
   },
   "outputs": [],
   "source": [
    "df_group = df_1.groupby(by=[\"homeCanton\",\"workCanton\"]).size()"
   ]
  },
  {
   "cell_type": "code",
   "execution_count": 6,
   "metadata": {
    "collapsed": false,
    "scrolled": true
   },
   "outputs": [
    {
     "data": {
      "text/plain": [
       "homeCanton            workCanton\n",
       "AG                    AG             1\n",
       "                      ZG             1\n",
       "                      ZH             3\n",
       "Auvergne-Rhône-Alpes  GE             2\n",
       "BE                    BE             4\n",
       "BS                    BS             3\n",
       "BW                    ZH             1\n",
       "FR                    BE             1\n",
       "GE                    GE             4\n",
       "                      VD             1\n",
       "GR                    GR             1\n",
       "                      TI             1\n",
       "                      ZH             2\n",
       "Grand Est             ZH             1\n",
       "LU                    ZG             1\n",
       "                      ZH             2\n",
       "Lombardia             TI             1\n",
       "SG                    SG             1\n",
       "                      ZH             1\n",
       "TG                    ZH             1\n",
       "TI                    TI             1\n",
       "UR                    LU             1\n",
       "VD                    VD             4\n",
       "VS                    VS             1\n",
       "ZH                    BE             1\n",
       "                      ZH            24\n",
       "dtype: int64"
      ]
     },
     "execution_count": 6,
     "metadata": {},
     "output_type": "execute_result"
    }
   ],
   "source": [
    "df_group"
   ]
  },
  {
   "cell_type": "code",
   "execution_count": 7,
   "metadata": {
    "collapsed": true
   },
   "outputs": [],
   "source": [
    "import json"
   ]
  },
  {
   "cell_type": "code",
   "execution_count": 8,
   "metadata": {
    "collapsed": true
   },
   "outputs": [],
   "source": [
    "# gjson is the main dictionary\n",
    "gjson_dict={}\n",
    "gjson_dict[\"type\"]= \"FeatureCollection\"\n",
    "feat_list = []\n"
   ]
  },
  {
   "cell_type": "code",
   "execution_count": 9,
   "metadata": {
    "collapsed": false
   },
   "outputs": [],
   "source": [
    "type_dict = {}\n",
    "prop_dict = {}\n",
    "type_dict[\"type\"] = \"FeatureCollection\"\n",
    "type_dict[\"homeCanton\"] = \"VD\"\n",
    "\n",
    "type_type_dict = {}\n",
    "prop_prop_dict = {}\n",
    "feat_feat_list = []\n",
    "type_type_dict[\"WorkCanton\"] = \"GE\"\n",
    "type_type_dict[\"type\"] = \"FeatureCollection\"\n",
    "prop_prop_dict[\"nbUser_path\"] = 3\n",
    "type_type_dict[\"properties\"] = prop_prop_dict\n",
    "feat_feat_list.append(type_type_dict)\n",
    "\n",
    "\n",
    "type_dict[\"features\"] = feat_feat_list\n",
    "feat_list.append(type_dict)\n",
    "\n",
    "gjson_dict[\"features\"] = feat_list"
   ]
  },
  {
   "cell_type": "code",
   "execution_count": 10,
   "metadata": {
    "collapsed": true
   },
   "outputs": [],
   "source": [
    "# gjson is the main dictionary\n",
    "gjson_dict={}\n",
    "gjson_dict[\"type\"]= \"FeatureCollection\"\n",
    "feat_list = []\n"
   ]
  },
  {
   "cell_type": "code",
   "execution_count": 11,
   "metadata": {
    "collapsed": false
   },
   "outputs": [],
   "source": [
    "for index in df_group.index:\n",
    "    home_Canton = index[0]\n",
    "    work_Canton = index[1]\n",
    "    nb_Users = df_group[index]\n",
    "    \n",
    "    type_dict = {}\n",
    "    prop_dict = {}\n",
    "    type_dict[\"type\"] = \"FeatureCollection\"\n",
    "    type_dict[\"homeCanton\"] = home_Canton\n",
    "    \n",
    "\n",
    "    type_type_dict = {}\n",
    "    prop_prop_dict = {}\n",
    "    feat_feat_list = []\n",
    "    type_type_dict[\"WorkCanton\"] = work_Canton\n",
    "    type_type_dict[\"type\"] = \"FeatureCollection\"\n",
    "    prop_prop_dict[\"nbUser_path\"] = nb_Users\n",
    "    type_type_dict[\"properties\"] = prop_prop_dict\n",
    "    feat_feat_list.append(type_type_dict)\n",
    "    \n",
    "    \n",
    "    type_dict[\"features\"] = feat_feat_list\n",
    "    feat_list.append(type_dict)\n",
    "\n",
    "gjson_dict[\"features\"] = feat_list\n",
    "    \n",
    "\n",
    "    "
   ]
  },
  {
   "cell_type": "code",
   "execution_count": 12,
   "metadata": {
    "collapsed": false
   },
   "outputs": [
    {
     "data": {
      "text/plain": [
       "{'features': [{'features': [{'WorkCanton': 'AG',\n",
       "     'properties': {'nbUser_path': 1},\n",
       "     'type': 'FeatureCollection'}],\n",
       "   'homeCanton': 'AG',\n",
       "   'type': 'FeatureCollection'},\n",
       "  {'features': [{'WorkCanton': 'ZG',\n",
       "     'properties': {'nbUser_path': 1},\n",
       "     'type': 'FeatureCollection'}],\n",
       "   'homeCanton': 'AG',\n",
       "   'type': 'FeatureCollection'},\n",
       "  {'features': [{'WorkCanton': 'ZH',\n",
       "     'properties': {'nbUser_path': 3},\n",
       "     'type': 'FeatureCollection'}],\n",
       "   'homeCanton': 'AG',\n",
       "   'type': 'FeatureCollection'},\n",
       "  {'features': [{'WorkCanton': 'GE',\n",
       "     'properties': {'nbUser_path': 2},\n",
       "     'type': 'FeatureCollection'}],\n",
       "   'homeCanton': 'Auvergne-Rh\\xc3\\xb4ne-Alpes',\n",
       "   'type': 'FeatureCollection'},\n",
       "  {'features': [{'WorkCanton': 'BE',\n",
       "     'properties': {'nbUser_path': 4},\n",
       "     'type': 'FeatureCollection'}],\n",
       "   'homeCanton': 'BE',\n",
       "   'type': 'FeatureCollection'},\n",
       "  {'features': [{'WorkCanton': 'BS',\n",
       "     'properties': {'nbUser_path': 3},\n",
       "     'type': 'FeatureCollection'}],\n",
       "   'homeCanton': 'BS',\n",
       "   'type': 'FeatureCollection'},\n",
       "  {'features': [{'WorkCanton': 'ZH',\n",
       "     'properties': {'nbUser_path': 1},\n",
       "     'type': 'FeatureCollection'}],\n",
       "   'homeCanton': 'BW',\n",
       "   'type': 'FeatureCollection'},\n",
       "  {'features': [{'WorkCanton': 'BE',\n",
       "     'properties': {'nbUser_path': 1},\n",
       "     'type': 'FeatureCollection'}],\n",
       "   'homeCanton': 'FR',\n",
       "   'type': 'FeatureCollection'},\n",
       "  {'features': [{'WorkCanton': 'GE',\n",
       "     'properties': {'nbUser_path': 4},\n",
       "     'type': 'FeatureCollection'}],\n",
       "   'homeCanton': 'GE',\n",
       "   'type': 'FeatureCollection'},\n",
       "  {'features': [{'WorkCanton': 'VD',\n",
       "     'properties': {'nbUser_path': 1},\n",
       "     'type': 'FeatureCollection'}],\n",
       "   'homeCanton': 'GE',\n",
       "   'type': 'FeatureCollection'},\n",
       "  {'features': [{'WorkCanton': 'GR',\n",
       "     'properties': {'nbUser_path': 1},\n",
       "     'type': 'FeatureCollection'}],\n",
       "   'homeCanton': 'GR',\n",
       "   'type': 'FeatureCollection'},\n",
       "  {'features': [{'WorkCanton': 'TI',\n",
       "     'properties': {'nbUser_path': 1},\n",
       "     'type': 'FeatureCollection'}],\n",
       "   'homeCanton': 'GR',\n",
       "   'type': 'FeatureCollection'},\n",
       "  {'features': [{'WorkCanton': 'ZH',\n",
       "     'properties': {'nbUser_path': 2},\n",
       "     'type': 'FeatureCollection'}],\n",
       "   'homeCanton': 'GR',\n",
       "   'type': 'FeatureCollection'},\n",
       "  {'features': [{'WorkCanton': 'ZH',\n",
       "     'properties': {'nbUser_path': 1},\n",
       "     'type': 'FeatureCollection'}],\n",
       "   'homeCanton': 'Grand Est',\n",
       "   'type': 'FeatureCollection'},\n",
       "  {'features': [{'WorkCanton': 'ZG',\n",
       "     'properties': {'nbUser_path': 1},\n",
       "     'type': 'FeatureCollection'}],\n",
       "   'homeCanton': 'LU',\n",
       "   'type': 'FeatureCollection'},\n",
       "  {'features': [{'WorkCanton': 'ZH',\n",
       "     'properties': {'nbUser_path': 2},\n",
       "     'type': 'FeatureCollection'}],\n",
       "   'homeCanton': 'LU',\n",
       "   'type': 'FeatureCollection'},\n",
       "  {'features': [{'WorkCanton': 'TI',\n",
       "     'properties': {'nbUser_path': 1},\n",
       "     'type': 'FeatureCollection'}],\n",
       "   'homeCanton': 'Lombardia',\n",
       "   'type': 'FeatureCollection'},\n",
       "  {'features': [{'WorkCanton': 'SG',\n",
       "     'properties': {'nbUser_path': 1},\n",
       "     'type': 'FeatureCollection'}],\n",
       "   'homeCanton': 'SG',\n",
       "   'type': 'FeatureCollection'},\n",
       "  {'features': [{'WorkCanton': 'ZH',\n",
       "     'properties': {'nbUser_path': 1},\n",
       "     'type': 'FeatureCollection'}],\n",
       "   'homeCanton': 'SG',\n",
       "   'type': 'FeatureCollection'},\n",
       "  {'features': [{'WorkCanton': 'ZH',\n",
       "     'properties': {'nbUser_path': 1},\n",
       "     'type': 'FeatureCollection'}],\n",
       "   'homeCanton': 'TG',\n",
       "   'type': 'FeatureCollection'},\n",
       "  {'features': [{'WorkCanton': 'TI',\n",
       "     'properties': {'nbUser_path': 1},\n",
       "     'type': 'FeatureCollection'}],\n",
       "   'homeCanton': 'TI',\n",
       "   'type': 'FeatureCollection'},\n",
       "  {'features': [{'WorkCanton': 'LU',\n",
       "     'properties': {'nbUser_path': 1},\n",
       "     'type': 'FeatureCollection'}],\n",
       "   'homeCanton': 'UR',\n",
       "   'type': 'FeatureCollection'},\n",
       "  {'features': [{'WorkCanton': 'VD',\n",
       "     'properties': {'nbUser_path': 4},\n",
       "     'type': 'FeatureCollection'}],\n",
       "   'homeCanton': 'VD',\n",
       "   'type': 'FeatureCollection'},\n",
       "  {'features': [{'WorkCanton': 'VS',\n",
       "     'properties': {'nbUser_path': 1},\n",
       "     'type': 'FeatureCollection'}],\n",
       "   'homeCanton': 'VS',\n",
       "   'type': 'FeatureCollection'},\n",
       "  {'features': [{'WorkCanton': 'BE',\n",
       "     'properties': {'nbUser_path': 1},\n",
       "     'type': 'FeatureCollection'}],\n",
       "   'homeCanton': 'ZH',\n",
       "   'type': 'FeatureCollection'},\n",
       "  {'features': [{'WorkCanton': 'ZH',\n",
       "     'properties': {'nbUser_path': 24},\n",
       "     'type': 'FeatureCollection'}],\n",
       "   'homeCanton': 'ZH',\n",
       "   'type': 'FeatureCollection'}],\n",
       " 'type': 'FeatureCollection'}"
      ]
     },
     "execution_count": 12,
     "metadata": {},
     "output_type": "execute_result"
    }
   ],
   "source": [
    "gjson_dict"
   ]
  },
  {
   "cell_type": "code",
   "execution_count": 13,
   "metadata": {
    "collapsed": true
   },
   "outputs": [],
   "source": [
    "\n",
    "# Serialize JSON for writing to file\n",
    "json_path = './data/mobility_pattern.json'\n",
    "with open(json_path, 'w') as outfile:\n",
    "     json.dump(gjson_dict, outfile, sort_keys = True, indent = 4, ensure_ascii=False)\n"
   ]
  },
  {
   "cell_type": "code",
   "execution_count": 14,
   "metadata": {
    "collapsed": false
   },
   "outputs": [
    {
     "data": {
      "text/plain": [
       "homeCanton            workCanton\n",
       "AG                    AG             1\n",
       "                      ZG             1\n",
       "                      ZH             3\n",
       "Auvergne-Rhône-Alpes  GE             2\n",
       "BE                    BE             4\n",
       "BS                    BS             3\n",
       "BW                    ZH             1\n",
       "FR                    BE             1\n",
       "GE                    GE             4\n",
       "                      VD             1\n",
       "GR                    GR             1\n",
       "                      TI             1\n",
       "                      ZH             2\n",
       "Grand Est             ZH             1\n",
       "LU                    ZG             1\n",
       "                      ZH             2\n",
       "Lombardia             TI             1\n",
       "SG                    SG             1\n",
       "                      ZH             1\n",
       "TG                    ZH             1\n",
       "TI                    TI             1\n",
       "UR                    LU             1\n",
       "VD                    VD             4\n",
       "VS                    VS             1\n",
       "ZH                    BE             1\n",
       "                      ZH            24\n",
       "dtype: int64"
      ]
     },
     "execution_count": 14,
     "metadata": {},
     "output_type": "execute_result"
    }
   ],
   "source": [
    "df_group"
   ]
  },
  {
   "cell_type": "code",
   "execution_count": null,
   "metadata": {
    "collapsed": true
   },
   "outputs": [],
   "source": []
  }
 ],
 "metadata": {
  "anaconda-cloud": {},
  "kernelspec": {
   "display_name": "Python [default]",
   "language": "python",
   "name": "python2"
  },
  "language_info": {
   "codemirror_mode": {
    "name": "ipython",
    "version": 2
   },
   "file_extension": ".py",
   "mimetype": "text/x-python",
   "name": "python",
   "nbconvert_exporter": "python",
   "pygments_lexer": "ipython2",
   "version": "2.7.12"
  }
 },
 "nbformat": 4,
 "nbformat_minor": 1
}
